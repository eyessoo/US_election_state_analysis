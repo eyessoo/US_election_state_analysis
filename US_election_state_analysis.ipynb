{
  "nbformat": 4,
  "nbformat_minor": 0,
  "metadata": {
    "colab": {
      "name": "US-election-state-analysis",
      "provenance": [],
      "collapsed_sections": [],
      "toc_visible": true,
      "authorship_tag": "ABX9TyMgIPZnmGeExHvJSiW0zMua",
      "include_colab_link": true
    },
    "kernelspec": {
      "name": "python3",
      "display_name": "Python 3"
    },
    "language_info": {
      "name": "python"
    }
  },
  "cells": [
    {
      "cell_type": "markdown",
      "metadata": {
        "id": "view-in-github",
        "colab_type": "text"
      },
      "source": [
        "<a href=\"https://colab.research.google.com/github/eyessoo/US_election_state_analysis/blob/main/US_election_state_analysis.ipynb\" target=\"_parent\"><img src=\"https://colab.research.google.com/assets/colab-badge.svg\" alt=\"Open In Colab\"/></a>"
      ]
    },
    {
      "cell_type": "markdown",
      "metadata": {
        "id": "YLkjQyHjtCsA"
      },
      "source": [
        "# Problem Description \n",
        "\n",
        "You have been asked to help a candidate to become US president. The winner of the election will be the candidate winning the most grand electors. \n",
        "\n",
        "Grand electors are attributed at the state level: in each of the 51 states, there is a given number of grand electors to win (roughly, but not exactly, proportional to the size of the state) and the presidential candidate receiving the most local votes wins ALL the Grand Electors in that state.\n",
        "\n",
        "Because the number of grand electors is not exactly proportional to the population, some states can be prioritized to increase the return on investment of the campaign. We assume here there are only 2 candidates, and no history (no trend of certain states to vote for a particular candidate or party). Hence, each vote is equally \"expensive\" to get, but some states grant more grand elector per capita.\n",
        "\n",
        "You are provided with 2 tables: one giving the number of Grand Electors per state, the other the population per state.\n",
        "\n",
        "\n",
        "\n",
        "---\n",
        "\n",
        "\n",
        "## DATASET\n",
        "Grand electors by State. [link](https://drive.google.com/file/d/1AuPlNXKjmEdRTLGqKbP-OP1XZ5UQPIPw/view)\n",
        "\n",
        "Population by State. [link](https://drive.google.com/file/d/1VKt_hF2pRqPxcNb1DKotkVXWNd2HX_KL/view)\n",
        "\n",
        "\n",
        "\n",
        "---\n",
        "\n",
        "\n",
        "\n",
        "You are asked to identify the states that should be prioritized to win the election, with a smart but simple algorithm (brute force computation of all possibilities to find the absolute optimum is not accepted, as it would be to computationally expensive). It is ok not to find the overall optimum, we just want a strategy that makes sense."
      ]
    },
    {
      "cell_type": "markdown",
      "metadata": {
        "id": "n5PXwasHtMvO"
      },
      "source": [
        "We will rank states by decreasing number of grand electors per capita. The first states in the list will be the most valuable (you get a large number of grand electors by convincing a small number of people to vote for you). We will target all the states at the top of the list until the cumulative sum (also called running total) of grand electors won is larger than half the total number of Grand Electors in the country.\n",
        "\n",
        "To do that, we need (you are allowed to create as many intermediary tables as you want, to keep queries short):\n",
        "\n",
        "1. To join the 2 tables:\n",
        "You notice States are not capitalized the same way in both tables (one is in uppercase letters, the other not), so you will first need to convert all to uppercase, for instance.\n",
        "2. Now you can join the tables on the state key.\n",
        "3. Your boss wants you to change the name of the \"District of Columbia\" state to its short version \"DC\". Please do that.\n",
        "4. To compute the ratio between the number of grand electors and the population. Please create a new column with that ratio.\n",
        "5. To order the states by decreasing ratio of Grand Electors per capita. That will make our priority list.\n",
        "6. To compute the running total of Grand Electors in that sorted list.\n",
        "Hint: you can get inspiration from here to compute a running total from here:  https://stackoverflow.com/questions/21382766/cumulative-summing-values-in-sqlite\n",
        "Independently, to compute the half of the total of Grand Electors overall (in the whole country):\n",
        "This is the threshold we need to reach for winning the presidential election.\n",
        "7. To filter our sorted list of states in order to keep only the (top) ones enabling us to reach the computed threshold. (the other states can be ignored). That is our target list.\n",
        "\n",
        "Hint: You can do that in 2 steps:\n",
        "* Select all the states for which the running total is below or equal to the threshold.\n",
        "* Add the first state for which the running total is larger than the threshold.\n",
        "\n",
        "\n",
        "Can you draw some conclusions from the result? \n",
        "\n",
        "Is it in line with your expectations? \n",
        "\n",
        "How many states do you end up with in the target list? \n",
        "\n",
        "Is it a small or a large number? Do you think it would be a good recommendation to target those states?"
      ]
    },
    {
      "cell_type": "code",
      "metadata": {
        "colab": {
          "base_uri": "https://localhost:8080/",
          "height": 35
        },
        "id": "8H4KtYcftCeU",
        "outputId": "eef742dc-b9d9-44e7-a431-45cc00d5e715"
      },
      "source": [
        "# We will first load the sql extension into our environment\n",
        "#\n",
        "%load_ext sql\n",
        "\n",
        "# Then connect to our in memory sqlite database\n",
        "# NB: This database will cease to exist as soon as the database connection is closed\n",
        "#\n",
        "%sql sqlite://"
      ],
      "execution_count": 1,
      "outputs": [
        {
          "output_type": "execute_result",
          "data": {
            "application/vnd.google.colaboratory.intrinsic+json": {
              "type": "string"
            },
            "text/plain": [
              "'Connected: @None'"
            ]
          },
          "metadata": {
            "tags": []
          },
          "execution_count": 1
        }
      ]
    },
    {
      "cell_type": "code",
      "metadata": {
        "id": "s5Iy1XMwhy4i"
      },
      "source": [
        "# Importing the python libraries that we will need in this notebook\n",
        "#\n",
        "import csv\n",
        "import pandas as pd"
      ],
      "execution_count": 2,
      "outputs": []
    },
    {
      "cell_type": "code",
      "metadata": {
        "colab": {
          "base_uri": "https://localhost:8080/",
          "height": 85
        },
        "id": "CQKjevb6tCMG",
        "outputId": "ae2692ce-e375-4496-a826-2d23e450bf5d"
      },
      "source": [
        "with open('GrandElectors_by_state.csv','r') as f:\n",
        "    GrandElectors = pd.read_csv(f, index_col=0, encoding='utf-8') \n",
        "\n",
        "# Then storing it in an SQL table of our in memory sqlite database\n",
        "%sql DROP TABLE if EXISTS GrandElectors;\n",
        "%sql PERSIST GrandElectors;"
      ],
      "execution_count": 3,
      "outputs": [
        {
          "output_type": "stream",
          "text": [
            " * sqlite://\n",
            "Done.\n",
            " * sqlite://\n"
          ],
          "name": "stdout"
        },
        {
          "output_type": "execute_result",
          "data": {
            "application/vnd.google.colaboratory.intrinsic+json": {
              "type": "string"
            },
            "text/plain": [
              "'Persisted grandelectors'"
            ]
          },
          "metadata": {
            "tags": []
          },
          "execution_count": 3
        }
      ]
    },
    {
      "cell_type": "code",
      "metadata": {
        "colab": {
          "base_uri": "https://localhost:8080/",
          "height": 85
        },
        "id": "RDnJKk5RtCFH",
        "outputId": "01433636-bb88-4552-a15f-e58823be8c25"
      },
      "source": [
        "with open('Population_by_state.csv','r') as f:\n",
        "    Population = pd.read_csv(f, index_col=0, encoding='utf-8') \n",
        "\n",
        "# Then storing it in an SQL table of our in memory sqlite database\n",
        "%sql DROP TABLE if EXISTS Population;\n",
        "%sql PERSIST Population;"
      ],
      "execution_count": 4,
      "outputs": [
        {
          "output_type": "stream",
          "text": [
            " * sqlite://\n",
            "Done.\n",
            " * sqlite://\n"
          ],
          "name": "stdout"
        },
        {
          "output_type": "execute_result",
          "data": {
            "application/vnd.google.colaboratory.intrinsic+json": {
              "type": "string"
            },
            "text/plain": [
              "'Persisted population'"
            ]
          },
          "metadata": {
            "tags": []
          },
          "execution_count": 4
        }
      ]
    },
    {
      "cell_type": "code",
      "metadata": {
        "id": "91FvHjcJtCCZ"
      },
      "source": [
        ""
      ],
      "execution_count": 4,
      "outputs": []
    },
    {
      "cell_type": "markdown",
      "metadata": {
        "id": "7xzhQvelaxW6"
      },
      "source": [
        "# Data Understanding\n"
      ]
    },
    {
      "cell_type": "code",
      "metadata": {
        "id": "3v1QA6oCtB_v",
        "colab": {
          "base_uri": "https://localhost:8080/",
          "height": 173
        },
        "outputId": "973df985-ea8c-45e4-9a64-bc75c6401f7e"
      },
      "source": [
        "%%sql\n",
        "SELECT * FROM GrandElectors LIMIT 5;"
      ],
      "execution_count": 5,
      "outputs": [
        {
          "output_type": "stream",
          "text": [
            " * sqlite://\n",
            "Done.\n"
          ],
          "name": "stdout"
        },
        {
          "output_type": "execute_result",
          "data": {
            "text/html": [
              "<table>\n",
              "    <thead>\n",
              "        <tr>\n",
              "            <th>State</th>\n",
              "            <th>GrandElectors</th>\n",
              "        </tr>\n",
              "    </thead>\n",
              "    <tbody>\n",
              "        <tr>\n",
              "            <td>Alabama</td>\n",
              "            <td>9</td>\n",
              "        </tr>\n",
              "        <tr>\n",
              "            <td>Alaska</td>\n",
              "            <td>3</td>\n",
              "        </tr>\n",
              "        <tr>\n",
              "            <td>Arizona</td>\n",
              "            <td>11</td>\n",
              "        </tr>\n",
              "        <tr>\n",
              "            <td>Arkansas</td>\n",
              "            <td>6</td>\n",
              "        </tr>\n",
              "        <tr>\n",
              "            <td>California</td>\n",
              "            <td>55</td>\n",
              "        </tr>\n",
              "    </tbody>\n",
              "</table>"
            ],
            "text/plain": [
              "[('Alabama', 9),\n",
              " ('Alaska', 3),\n",
              " ('Arizona', 11),\n",
              " ('Arkansas', 6),\n",
              " ('California', 55)]"
            ]
          },
          "metadata": {
            "tags": []
          },
          "execution_count": 5
        }
      ]
    },
    {
      "cell_type": "code",
      "metadata": {
        "id": "Lp57whRRtB87",
        "colab": {
          "base_uri": "https://localhost:8080/",
          "height": 173
        },
        "outputId": "7d757328-134d-4ec0-86ad-93409a3b1aea"
      },
      "source": [
        "%%sql\n",
        "SELECT * FROM Population LIMIT 5;"
      ],
      "execution_count": 6,
      "outputs": [
        {
          "output_type": "stream",
          "text": [
            " * sqlite://\n",
            "Done.\n"
          ],
          "name": "stdout"
        },
        {
          "output_type": "execute_result",
          "data": {
            "text/html": [
              "<table>\n",
              "    <thead>\n",
              "        <tr>\n",
              "            <th>State</th>\n",
              "            <th>Population</th>\n",
              "        </tr>\n",
              "    </thead>\n",
              "    <tbody>\n",
              "        <tr>\n",
              "            <td>CALIFORNIA</td>\n",
              "            <td>39144818</td>\n",
              "        </tr>\n",
              "        <tr>\n",
              "            <td>TEXAS</td>\n",
              "            <td>27469114</td>\n",
              "        </tr>\n",
              "        <tr>\n",
              "            <td>FLORIDA</td>\n",
              "            <td>20271272</td>\n",
              "        </tr>\n",
              "        <tr>\n",
              "            <td>NEW YORK</td>\n",
              "            <td>19795791</td>\n",
              "        </tr>\n",
              "        <tr>\n",
              "            <td>ILLINOIS</td>\n",
              "            <td>12859995</td>\n",
              "        </tr>\n",
              "    </tbody>\n",
              "</table>"
            ],
            "text/plain": [
              "[('CALIFORNIA', 39144818),\n",
              " ('TEXAS', 27469114),\n",
              " ('FLORIDA', 20271272),\n",
              " ('NEW YORK', 19795791),\n",
              " ('ILLINOIS', 12859995)]"
            ]
          },
          "metadata": {
            "tags": []
          },
          "execution_count": 6
        }
      ]
    },
    {
      "cell_type": "code",
      "metadata": {
        "id": "2FIpywcNtB6G"
      },
      "source": [
        ""
      ],
      "execution_count": 6,
      "outputs": []
    },
    {
      "cell_type": "markdown",
      "metadata": {
        "id": "Viodz-W3bXZH"
      },
      "source": [
        "# Data Preparation"
      ]
    },
    {
      "cell_type": "code",
      "metadata": {
        "colab": {
          "base_uri": "https://localhost:8080/"
        },
        "id": "GlwRk17Qbg-9",
        "outputId": "3e2e29a0-159c-4bed-b9ef-781abfdde2da"
      },
      "source": [
        "#You notice States are not capitalized the same way in both tables (one is in uppercase letters, the other not), \n",
        "# so you will first need to convert all to uppercase, for instance.\n",
        "\n",
        "%%sql\n",
        "\n",
        "UPDATE GrandElectors\n",
        "SET State = UPPER(state)"
      ],
      "execution_count": 7,
      "outputs": [
        {
          "output_type": "stream",
          "text": [
            " * sqlite://\n",
            "51 rows affected.\n"
          ],
          "name": "stdout"
        },
        {
          "output_type": "execute_result",
          "data": {
            "text/plain": [
              "[]"
            ]
          },
          "metadata": {
            "tags": []
          },
          "execution_count": 7
        }
      ]
    },
    {
      "cell_type": "code",
      "metadata": {
        "colab": {
          "base_uri": "https://localhost:8080/",
          "height": 173
        },
        "id": "jZNqn4Z0bg8e",
        "outputId": "f8b36566-5d95-4dd6-a2c5-be3c95b94f07"
      },
      "source": [
        "%%sql\n",
        "SELECT * FROM GrandElectors LIMIT 5;"
      ],
      "execution_count": 8,
      "outputs": [
        {
          "output_type": "stream",
          "text": [
            " * sqlite://\n",
            "Done.\n"
          ],
          "name": "stdout"
        },
        {
          "output_type": "execute_result",
          "data": {
            "text/html": [
              "<table>\n",
              "    <thead>\n",
              "        <tr>\n",
              "            <th>State</th>\n",
              "            <th>GrandElectors</th>\n",
              "        </tr>\n",
              "    </thead>\n",
              "    <tbody>\n",
              "        <tr>\n",
              "            <td>ALABAMA</td>\n",
              "            <td>9</td>\n",
              "        </tr>\n",
              "        <tr>\n",
              "            <td>ALASKA</td>\n",
              "            <td>3</td>\n",
              "        </tr>\n",
              "        <tr>\n",
              "            <td>ARIZONA</td>\n",
              "            <td>11</td>\n",
              "        </tr>\n",
              "        <tr>\n",
              "            <td>ARKANSAS</td>\n",
              "            <td>6</td>\n",
              "        </tr>\n",
              "        <tr>\n",
              "            <td>CALIFORNIA</td>\n",
              "            <td>55</td>\n",
              "        </tr>\n",
              "    </tbody>\n",
              "</table>"
            ],
            "text/plain": [
              "[('ALABAMA', 9),\n",
              " ('ALASKA', 3),\n",
              " ('ARIZONA', 11),\n",
              " ('ARKANSAS', 6),\n",
              " ('CALIFORNIA', 55)]"
            ]
          },
          "metadata": {
            "tags": []
          },
          "execution_count": 8
        }
      ]
    },
    {
      "cell_type": "code",
      "metadata": {
        "colab": {
          "base_uri": "https://localhost:8080/"
        },
        "id": "C5PI1lNRbg52",
        "outputId": "f2748f05-1479-464b-df34-0b38a0793139"
      },
      "source": [
        "#Now you can join the tables on the state key.\n",
        "\n",
        "%%sql\n",
        "\n",
        "CREATE VIEW joined\n",
        "AS\n",
        "SELECT GrandElectors.State, GrandElectors, Population\n",
        "FROM GrandElectors INNER JOIN Population\n",
        "ON GrandElectors.State = Population.State"
      ],
      "execution_count": 9,
      "outputs": [
        {
          "output_type": "stream",
          "text": [
            " * sqlite://\n",
            "Done.\n"
          ],
          "name": "stdout"
        },
        {
          "output_type": "execute_result",
          "data": {
            "text/plain": [
              "[]"
            ]
          },
          "metadata": {
            "tags": []
          },
          "execution_count": 9
        }
      ]
    },
    {
      "cell_type": "code",
      "metadata": {
        "colab": {
          "base_uri": "https://localhost:8080/",
          "height": 1000
        },
        "id": "lJEZDw_Whwzg",
        "outputId": "6a4dde09-1a1c-40e9-d98b-308de16b1ac1"
      },
      "source": [
        "%%sql\n",
        "\n",
        "SELECT * from joined"
      ],
      "execution_count": 10,
      "outputs": [
        {
          "output_type": "stream",
          "text": [
            " * sqlite://\n",
            "Done.\n"
          ],
          "name": "stdout"
        },
        {
          "output_type": "execute_result",
          "data": {
            "text/html": [
              "<table>\n",
              "    <thead>\n",
              "        <tr>\n",
              "            <th>State</th>\n",
              "            <th>GrandElectors</th>\n",
              "            <th>Population</th>\n",
              "        </tr>\n",
              "    </thead>\n",
              "    <tbody>\n",
              "        <tr>\n",
              "            <td>ALABAMA</td>\n",
              "            <td>9</td>\n",
              "            <td>4858979</td>\n",
              "        </tr>\n",
              "        <tr>\n",
              "            <td>ALASKA</td>\n",
              "            <td>3</td>\n",
              "            <td>738432</td>\n",
              "        </tr>\n",
              "        <tr>\n",
              "            <td>ARIZONA</td>\n",
              "            <td>11</td>\n",
              "            <td>6828065</td>\n",
              "        </tr>\n",
              "        <tr>\n",
              "            <td>ARKANSAS</td>\n",
              "            <td>6</td>\n",
              "            <td>2978204</td>\n",
              "        </tr>\n",
              "        <tr>\n",
              "            <td>CALIFORNIA</td>\n",
              "            <td>55</td>\n",
              "            <td>39144818</td>\n",
              "        </tr>\n",
              "        <tr>\n",
              "            <td>COLORADO</td>\n",
              "            <td>9</td>\n",
              "            <td>5456574</td>\n",
              "        </tr>\n",
              "        <tr>\n",
              "            <td>CONNECTICUT</td>\n",
              "            <td>7</td>\n",
              "            <td>3590886</td>\n",
              "        </tr>\n",
              "        <tr>\n",
              "            <td>DISTRICT OF COLUMBIA</td>\n",
              "            <td>3</td>\n",
              "            <td>672228</td>\n",
              "        </tr>\n",
              "        <tr>\n",
              "            <td>DELAWARE</td>\n",
              "            <td>3</td>\n",
              "            <td>945934</td>\n",
              "        </tr>\n",
              "        <tr>\n",
              "            <td>FLORIDA</td>\n",
              "            <td>29</td>\n",
              "            <td>20271272</td>\n",
              "        </tr>\n",
              "        <tr>\n",
              "            <td>GEORGIA</td>\n",
              "            <td>16</td>\n",
              "            <td>10214860</td>\n",
              "        </tr>\n",
              "        <tr>\n",
              "            <td>HAWAII</td>\n",
              "            <td>4</td>\n",
              "            <td>1431603</td>\n",
              "        </tr>\n",
              "        <tr>\n",
              "            <td>IDAHO</td>\n",
              "            <td>4</td>\n",
              "            <td>1654930</td>\n",
              "        </tr>\n",
              "        <tr>\n",
              "            <td>ILLINOIS</td>\n",
              "            <td>20</td>\n",
              "            <td>12859995</td>\n",
              "        </tr>\n",
              "        <tr>\n",
              "            <td>INDIANA</td>\n",
              "            <td>11</td>\n",
              "            <td>6619680</td>\n",
              "        </tr>\n",
              "        <tr>\n",
              "            <td>IOWA</td>\n",
              "            <td>6</td>\n",
              "            <td>3123899</td>\n",
              "        </tr>\n",
              "        <tr>\n",
              "            <td>KANSAS</td>\n",
              "            <td>6</td>\n",
              "            <td>2911641</td>\n",
              "        </tr>\n",
              "        <tr>\n",
              "            <td>KENTUCKY</td>\n",
              "            <td>8</td>\n",
              "            <td>4425092</td>\n",
              "        </tr>\n",
              "        <tr>\n",
              "            <td>LOUISIANA</td>\n",
              "            <td>8</td>\n",
              "            <td>4670724</td>\n",
              "        </tr>\n",
              "        <tr>\n",
              "            <td>MAINE</td>\n",
              "            <td>4</td>\n",
              "            <td>1329328</td>\n",
              "        </tr>\n",
              "        <tr>\n",
              "            <td>MARYLAND</td>\n",
              "            <td>10</td>\n",
              "            <td>6006401</td>\n",
              "        </tr>\n",
              "        <tr>\n",
              "            <td>MASSACHUSETTS</td>\n",
              "            <td>11</td>\n",
              "            <td>6794422</td>\n",
              "        </tr>\n",
              "        <tr>\n",
              "            <td>MICHIGAN</td>\n",
              "            <td>16</td>\n",
              "            <td>9922576</td>\n",
              "        </tr>\n",
              "        <tr>\n",
              "            <td>MINNESOTA</td>\n",
              "            <td>10</td>\n",
              "            <td>5489594</td>\n",
              "        </tr>\n",
              "        <tr>\n",
              "            <td>MISSISSIPPI</td>\n",
              "            <td>6</td>\n",
              "            <td>2992333</td>\n",
              "        </tr>\n",
              "        <tr>\n",
              "            <td>MISSOURI</td>\n",
              "            <td>10</td>\n",
              "            <td>6083672</td>\n",
              "        </tr>\n",
              "        <tr>\n",
              "            <td>MONTANA</td>\n",
              "            <td>3</td>\n",
              "            <td>1032949</td>\n",
              "        </tr>\n",
              "        <tr>\n",
              "            <td>NEBRASKA</td>\n",
              "            <td>5</td>\n",
              "            <td>1896190</td>\n",
              "        </tr>\n",
              "        <tr>\n",
              "            <td>NEVADA</td>\n",
              "            <td>6</td>\n",
              "            <td>2890845</td>\n",
              "        </tr>\n",
              "        <tr>\n",
              "            <td>NEW HAMPSHIRE</td>\n",
              "            <td>4</td>\n",
              "            <td>1330608</td>\n",
              "        </tr>\n",
              "        <tr>\n",
              "            <td>NEW JERSEY</td>\n",
              "            <td>14</td>\n",
              "            <td>8958013</td>\n",
              "        </tr>\n",
              "        <tr>\n",
              "            <td>NEW MEXICO</td>\n",
              "            <td>5</td>\n",
              "            <td>2085109</td>\n",
              "        </tr>\n",
              "        <tr>\n",
              "            <td>NEW YORK</td>\n",
              "            <td>29</td>\n",
              "            <td>19795791</td>\n",
              "        </tr>\n",
              "        <tr>\n",
              "            <td>NORTH CAROLINA</td>\n",
              "            <td>15</td>\n",
              "            <td>10042802</td>\n",
              "        </tr>\n",
              "        <tr>\n",
              "            <td>NORTH DAKOTA</td>\n",
              "            <td>3</td>\n",
              "            <td>756927</td>\n",
              "        </tr>\n",
              "        <tr>\n",
              "            <td>OHIO</td>\n",
              "            <td>18</td>\n",
              "            <td>11613423</td>\n",
              "        </tr>\n",
              "        <tr>\n",
              "            <td>OKLAHOMA</td>\n",
              "            <td>7</td>\n",
              "            <td>3911338</td>\n",
              "        </tr>\n",
              "        <tr>\n",
              "            <td>OREGON</td>\n",
              "            <td>7</td>\n",
              "            <td>4028977</td>\n",
              "        </tr>\n",
              "        <tr>\n",
              "            <td>PENNSYLVANIA</td>\n",
              "            <td>20</td>\n",
              "            <td>12802503</td>\n",
              "        </tr>\n",
              "        <tr>\n",
              "            <td>RHODE ISLAND</td>\n",
              "            <td>4</td>\n",
              "            <td>1056298</td>\n",
              "        </tr>\n",
              "        <tr>\n",
              "            <td>SOUTH CAROLINA</td>\n",
              "            <td>9</td>\n",
              "            <td>4896146</td>\n",
              "        </tr>\n",
              "        <tr>\n",
              "            <td>SOUTH DAKOTA</td>\n",
              "            <td>3</td>\n",
              "            <td>858469</td>\n",
              "        </tr>\n",
              "        <tr>\n",
              "            <td>TENNESSEE</td>\n",
              "            <td>11</td>\n",
              "            <td>6600299</td>\n",
              "        </tr>\n",
              "        <tr>\n",
              "            <td>TEXAS</td>\n",
              "            <td>38</td>\n",
              "            <td>27469114</td>\n",
              "        </tr>\n",
              "        <tr>\n",
              "            <td>UTAH</td>\n",
              "            <td>6</td>\n",
              "            <td>2995919</td>\n",
              "        </tr>\n",
              "        <tr>\n",
              "            <td>VERMONT</td>\n",
              "            <td>3</td>\n",
              "            <td>626042</td>\n",
              "        </tr>\n",
              "        <tr>\n",
              "            <td>VIRGINIA</td>\n",
              "            <td>13</td>\n",
              "            <td>8382993</td>\n",
              "        </tr>\n",
              "        <tr>\n",
              "            <td>WASHINGTON</td>\n",
              "            <td>12</td>\n",
              "            <td>7170351</td>\n",
              "        </tr>\n",
              "        <tr>\n",
              "            <td>WEST VIRGINIA</td>\n",
              "            <td>5</td>\n",
              "            <td>1844128</td>\n",
              "        </tr>\n",
              "        <tr>\n",
              "            <td>WISCONSIN</td>\n",
              "            <td>10</td>\n",
              "            <td>5771337</td>\n",
              "        </tr>\n",
              "        <tr>\n",
              "            <td>WYOMING</td>\n",
              "            <td>3</td>\n",
              "            <td>586107</td>\n",
              "        </tr>\n",
              "    </tbody>\n",
              "</table>"
            ],
            "text/plain": [
              "[('ALABAMA', 9, 4858979),\n",
              " ('ALASKA', 3, 738432),\n",
              " ('ARIZONA', 11, 6828065),\n",
              " ('ARKANSAS', 6, 2978204),\n",
              " ('CALIFORNIA', 55, 39144818),\n",
              " ('COLORADO', 9, 5456574),\n",
              " ('CONNECTICUT', 7, 3590886),\n",
              " ('DISTRICT OF COLUMBIA', 3, 672228),\n",
              " ('DELAWARE', 3, 945934),\n",
              " ('FLORIDA', 29, 20271272),\n",
              " ('GEORGIA', 16, 10214860),\n",
              " ('HAWAII', 4, 1431603),\n",
              " ('IDAHO', 4, 1654930),\n",
              " ('ILLINOIS', 20, 12859995),\n",
              " ('INDIANA', 11, 6619680),\n",
              " ('IOWA', 6, 3123899),\n",
              " ('KANSAS', 6, 2911641),\n",
              " ('KENTUCKY', 8, 4425092),\n",
              " ('LOUISIANA', 8, 4670724),\n",
              " ('MAINE', 4, 1329328),\n",
              " ('MARYLAND', 10, 6006401),\n",
              " ('MASSACHUSETTS', 11, 6794422),\n",
              " ('MICHIGAN', 16, 9922576),\n",
              " ('MINNESOTA', 10, 5489594),\n",
              " ('MISSISSIPPI', 6, 2992333),\n",
              " ('MISSOURI', 10, 6083672),\n",
              " ('MONTANA', 3, 1032949),\n",
              " ('NEBRASKA', 5, 1896190),\n",
              " ('NEVADA', 6, 2890845),\n",
              " ('NEW HAMPSHIRE', 4, 1330608),\n",
              " ('NEW JERSEY', 14, 8958013),\n",
              " ('NEW MEXICO', 5, 2085109),\n",
              " ('NEW YORK', 29, 19795791),\n",
              " ('NORTH CAROLINA', 15, 10042802),\n",
              " ('NORTH DAKOTA', 3, 756927),\n",
              " ('OHIO', 18, 11613423),\n",
              " ('OKLAHOMA', 7, 3911338),\n",
              " ('OREGON', 7, 4028977),\n",
              " ('PENNSYLVANIA', 20, 12802503),\n",
              " ('RHODE ISLAND', 4, 1056298),\n",
              " ('SOUTH CAROLINA', 9, 4896146),\n",
              " ('SOUTH DAKOTA', 3, 858469),\n",
              " ('TENNESSEE', 11, 6600299),\n",
              " ('TEXAS', 38, 27469114),\n",
              " ('UTAH', 6, 2995919),\n",
              " ('VERMONT', 3, 626042),\n",
              " ('VIRGINIA', 13, 8382993),\n",
              " ('WASHINGTON', 12, 7170351),\n",
              " ('WEST VIRGINIA', 5, 1844128),\n",
              " ('WISCONSIN', 10, 5771337),\n",
              " ('WYOMING', 3, 586107)]"
            ]
          },
          "metadata": {
            "tags": []
          },
          "execution_count": 10
        }
      ]
    },
    {
      "cell_type": "code",
      "metadata": {
        "colab": {
          "base_uri": "https://localhost:8080/"
        },
        "id": "Id0TkpXabg2x",
        "outputId": "dbd5fcf8-d65d-4b54-cdd7-a34b568e3de5"
      },
      "source": [
        "#Your boss wants you to change the name of the \"District of Columbia\" state to its short version \"DC\". Please do that.\n",
        "\n",
        "%%sql\n",
        "UPDATE GrandElectors\n",
        "SET State = \"DC\"\n",
        "WHERE State = \"DISTRICT OF COLUMBIA\""
      ],
      "execution_count": 11,
      "outputs": [
        {
          "output_type": "stream",
          "text": [
            " * sqlite://\n",
            "1 rows affected.\n"
          ],
          "name": "stdout"
        },
        {
          "output_type": "execute_result",
          "data": {
            "text/plain": [
              "[]"
            ]
          },
          "metadata": {
            "tags": []
          },
          "execution_count": 11
        }
      ]
    },
    {
      "cell_type": "code",
      "metadata": {
        "colab": {
          "base_uri": "https://localhost:8080/",
          "height": 274
        },
        "id": "b7cBZvdudSYk",
        "outputId": "278fc37c-75af-47b3-8843-1c080862c421"
      },
      "source": [
        "%%sql\n",
        "\n",
        "SELECT * FROM GrandElectors Limit 10;"
      ],
      "execution_count": 12,
      "outputs": [
        {
          "output_type": "stream",
          "text": [
            " * sqlite://\n",
            "Done.\n"
          ],
          "name": "stdout"
        },
        {
          "output_type": "execute_result",
          "data": {
            "text/html": [
              "<table>\n",
              "    <thead>\n",
              "        <tr>\n",
              "            <th>State</th>\n",
              "            <th>GrandElectors</th>\n",
              "        </tr>\n",
              "    </thead>\n",
              "    <tbody>\n",
              "        <tr>\n",
              "            <td>ALABAMA</td>\n",
              "            <td>9</td>\n",
              "        </tr>\n",
              "        <tr>\n",
              "            <td>ALASKA</td>\n",
              "            <td>3</td>\n",
              "        </tr>\n",
              "        <tr>\n",
              "            <td>ARIZONA</td>\n",
              "            <td>11</td>\n",
              "        </tr>\n",
              "        <tr>\n",
              "            <td>ARKANSAS</td>\n",
              "            <td>6</td>\n",
              "        </tr>\n",
              "        <tr>\n",
              "            <td>CALIFORNIA</td>\n",
              "            <td>55</td>\n",
              "        </tr>\n",
              "        <tr>\n",
              "            <td>COLORADO</td>\n",
              "            <td>9</td>\n",
              "        </tr>\n",
              "        <tr>\n",
              "            <td>CONNECTICUT</td>\n",
              "            <td>7</td>\n",
              "        </tr>\n",
              "        <tr>\n",
              "            <td>DC</td>\n",
              "            <td>3</td>\n",
              "        </tr>\n",
              "        <tr>\n",
              "            <td>DELAWARE</td>\n",
              "            <td>3</td>\n",
              "        </tr>\n",
              "        <tr>\n",
              "            <td>FLORIDA</td>\n",
              "            <td>29</td>\n",
              "        </tr>\n",
              "    </tbody>\n",
              "</table>"
            ],
            "text/plain": [
              "[('ALABAMA', 9),\n",
              " ('ALASKA', 3),\n",
              " ('ARIZONA', 11),\n",
              " ('ARKANSAS', 6),\n",
              " ('CALIFORNIA', 55),\n",
              " ('COLORADO', 9),\n",
              " ('CONNECTICUT', 7),\n",
              " ('DC', 3),\n",
              " ('DELAWARE', 3),\n",
              " ('FLORIDA', 29)]"
            ]
          },
          "metadata": {
            "tags": []
          },
          "execution_count": 12
        }
      ]
    },
    {
      "cell_type": "code",
      "metadata": {
        "colab": {
          "base_uri": "https://localhost:8080/"
        },
        "id": "843x447Tbg0S",
        "outputId": "dc0d816f-6e81-4164-ac33-34f7c253a92a"
      },
      "source": [
        "%%sql\n",
        "UPDATE Population\n",
        "SET State = \"DC\"\n",
        "WHERE State = \"DISTRICT OF COLUMBIA\""
      ],
      "execution_count": 13,
      "outputs": [
        {
          "output_type": "stream",
          "text": [
            " * sqlite://\n",
            "1 rows affected.\n"
          ],
          "name": "stdout"
        },
        {
          "output_type": "execute_result",
          "data": {
            "text/plain": [
              "[]"
            ]
          },
          "metadata": {
            "tags": []
          },
          "execution_count": 13
        }
      ]
    },
    {
      "cell_type": "code",
      "metadata": {
        "colab": {
          "base_uri": "https://localhost:8080/",
          "height": 274
        },
        "id": "FlEOaxYOdoTA",
        "outputId": "0bf07b54-1b5b-4355-ddf7-e88aa1155e72"
      },
      "source": [
        "%%sql\n",
        "\n",
        "SELECT * FROM Population\n",
        "ORDER BY State ASC Limit 10;"
      ],
      "execution_count": 14,
      "outputs": [
        {
          "output_type": "stream",
          "text": [
            " * sqlite://\n",
            "Done.\n"
          ],
          "name": "stdout"
        },
        {
          "output_type": "execute_result",
          "data": {
            "text/html": [
              "<table>\n",
              "    <thead>\n",
              "        <tr>\n",
              "            <th>State</th>\n",
              "            <th>Population</th>\n",
              "        </tr>\n",
              "    </thead>\n",
              "    <tbody>\n",
              "        <tr>\n",
              "            <td>ALABAMA</td>\n",
              "            <td>4858979</td>\n",
              "        </tr>\n",
              "        <tr>\n",
              "            <td>ALASKA</td>\n",
              "            <td>738432</td>\n",
              "        </tr>\n",
              "        <tr>\n",
              "            <td>AMERICAN SAMOA</td>\n",
              "            <td>54343</td>\n",
              "        </tr>\n",
              "        <tr>\n",
              "            <td>ARIZONA</td>\n",
              "            <td>6828065</td>\n",
              "        </tr>\n",
              "        <tr>\n",
              "            <td>ARKANSAS</td>\n",
              "            <td>2978204</td>\n",
              "        </tr>\n",
              "        <tr>\n",
              "            <td>CALIFORNIA</td>\n",
              "            <td>39144818</td>\n",
              "        </tr>\n",
              "        <tr>\n",
              "            <td>COLORADO</td>\n",
              "            <td>5456574</td>\n",
              "        </tr>\n",
              "        <tr>\n",
              "            <td>CONNECTICUT</td>\n",
              "            <td>3590886</td>\n",
              "        </tr>\n",
              "        <tr>\n",
              "            <td>DC</td>\n",
              "            <td>672228</td>\n",
              "        </tr>\n",
              "        <tr>\n",
              "            <td>DELAWARE</td>\n",
              "            <td>945934</td>\n",
              "        </tr>\n",
              "    </tbody>\n",
              "</table>"
            ],
            "text/plain": [
              "[('ALABAMA', 4858979),\n",
              " ('ALASKA', 738432),\n",
              " ('AMERICAN SAMOA', 54343),\n",
              " ('ARIZONA', 6828065),\n",
              " ('ARKANSAS', 2978204),\n",
              " ('CALIFORNIA', 39144818),\n",
              " ('COLORADO', 5456574),\n",
              " ('CONNECTICUT', 3590886),\n",
              " ('DC', 672228),\n",
              " ('DELAWARE', 945934)]"
            ]
          },
          "metadata": {
            "tags": []
          },
          "execution_count": 14
        }
      ]
    },
    {
      "cell_type": "code",
      "metadata": {
        "colab": {
          "base_uri": "https://localhost:8080/"
        },
        "id": "yfKDPYQ4jKZU",
        "outputId": "bf426b9a-681c-411f-d17a-a0f48f6061bd"
      },
      "source": [
        "#Now you can join the tables on the state key.\n",
        "\n",
        "%%sql\n",
        "\n",
        "CREATE VIEW joined_update\n",
        "AS\n",
        "SELECT GrandElectors.State, GrandElectors, Population\n",
        "FROM GrandElectors INNER JOIN Population\n",
        "ON GrandElectors.State = Population.State"
      ],
      "execution_count": 15,
      "outputs": [
        {
          "output_type": "stream",
          "text": [
            " * sqlite://\n",
            "Done.\n"
          ],
          "name": "stdout"
        },
        {
          "output_type": "execute_result",
          "data": {
            "text/plain": [
              "[]"
            ]
          },
          "metadata": {
            "tags": []
          },
          "execution_count": 15
        }
      ]
    },
    {
      "cell_type": "code",
      "metadata": {
        "colab": {
          "base_uri": "https://localhost:8080/",
          "height": 274
        },
        "id": "IPUN1oGhjOjT",
        "outputId": "b61e1310-b63b-4cb1-c2a0-eb1684d6339b"
      },
      "source": [
        "%%sql\n",
        "SELECT * FROM joined_update LIMIT 10;"
      ],
      "execution_count": 16,
      "outputs": [
        {
          "output_type": "stream",
          "text": [
            " * sqlite://\n",
            "Done.\n"
          ],
          "name": "stdout"
        },
        {
          "output_type": "execute_result",
          "data": {
            "text/html": [
              "<table>\n",
              "    <thead>\n",
              "        <tr>\n",
              "            <th>State</th>\n",
              "            <th>GrandElectors</th>\n",
              "            <th>Population</th>\n",
              "        </tr>\n",
              "    </thead>\n",
              "    <tbody>\n",
              "        <tr>\n",
              "            <td>ALABAMA</td>\n",
              "            <td>9</td>\n",
              "            <td>4858979</td>\n",
              "        </tr>\n",
              "        <tr>\n",
              "            <td>ALASKA</td>\n",
              "            <td>3</td>\n",
              "            <td>738432</td>\n",
              "        </tr>\n",
              "        <tr>\n",
              "            <td>ARIZONA</td>\n",
              "            <td>11</td>\n",
              "            <td>6828065</td>\n",
              "        </tr>\n",
              "        <tr>\n",
              "            <td>ARKANSAS</td>\n",
              "            <td>6</td>\n",
              "            <td>2978204</td>\n",
              "        </tr>\n",
              "        <tr>\n",
              "            <td>CALIFORNIA</td>\n",
              "            <td>55</td>\n",
              "            <td>39144818</td>\n",
              "        </tr>\n",
              "        <tr>\n",
              "            <td>COLORADO</td>\n",
              "            <td>9</td>\n",
              "            <td>5456574</td>\n",
              "        </tr>\n",
              "        <tr>\n",
              "            <td>CONNECTICUT</td>\n",
              "            <td>7</td>\n",
              "            <td>3590886</td>\n",
              "        </tr>\n",
              "        <tr>\n",
              "            <td>DC</td>\n",
              "            <td>3</td>\n",
              "            <td>672228</td>\n",
              "        </tr>\n",
              "        <tr>\n",
              "            <td>DELAWARE</td>\n",
              "            <td>3</td>\n",
              "            <td>945934</td>\n",
              "        </tr>\n",
              "        <tr>\n",
              "            <td>FLORIDA</td>\n",
              "            <td>29</td>\n",
              "            <td>20271272</td>\n",
              "        </tr>\n",
              "    </tbody>\n",
              "</table>"
            ],
            "text/plain": [
              "[('ALABAMA', 9, 4858979),\n",
              " ('ALASKA', 3, 738432),\n",
              " ('ARIZONA', 11, 6828065),\n",
              " ('ARKANSAS', 6, 2978204),\n",
              " ('CALIFORNIA', 55, 39144818),\n",
              " ('COLORADO', 9, 5456574),\n",
              " ('CONNECTICUT', 7, 3590886),\n",
              " ('DC', 3, 672228),\n",
              " ('DELAWARE', 3, 945934),\n",
              " ('FLORIDA', 29, 20271272)]"
            ]
          },
          "metadata": {
            "tags": []
          },
          "execution_count": 16
        }
      ]
    },
    {
      "cell_type": "code",
      "metadata": {
        "colab": {
          "base_uri": "https://localhost:8080/"
        },
        "id": "duFBQYGsdOvN",
        "outputId": "0b3e663c-95f6-4f6d-da1c-90fa0eb66b34"
      },
      "source": [
        "# To compute the ratio between the number of grand electors and the population. Please create a new column with that ratio.\n",
        "# To order the states by decreasing ratio of Grand Electors per capita. \n",
        "\n",
        "%%sql\n",
        "\n",
        "CREATE VIEW Ratios\n",
        "AS\n",
        "SELECT State, GrandElectors, Population, (GrandElectors *1.0/Population *1.0) as Ratio\n",
        "FROM joined_update\n",
        "ORDER BY Ratio DESC;\n",
        "\n"
      ],
      "execution_count": 17,
      "outputs": [
        {
          "output_type": "stream",
          "text": [
            " * sqlite://\n",
            "Done.\n"
          ],
          "name": "stdout"
        },
        {
          "output_type": "execute_result",
          "data": {
            "text/plain": [
              "[]"
            ]
          },
          "metadata": {
            "tags": []
          },
          "execution_count": 17
        }
      ]
    },
    {
      "cell_type": "code",
      "metadata": {
        "colab": {
          "base_uri": "https://localhost:8080/",
          "height": 274
        },
        "id": "419xM2LCdOsx",
        "outputId": "3d163e1f-60a6-45b4-fe70-006d68b7a28c"
      },
      "source": [
        "%%sql\n",
        "\n",
        "SELECT * FROM Ratios\n",
        "LIMIT 10;"
      ],
      "execution_count": 18,
      "outputs": [
        {
          "output_type": "stream",
          "text": [
            " * sqlite://\n",
            "Done.\n"
          ],
          "name": "stdout"
        },
        {
          "output_type": "execute_result",
          "data": {
            "text/html": [
              "<table>\n",
              "    <thead>\n",
              "        <tr>\n",
              "            <th>State</th>\n",
              "            <th>GrandElectors</th>\n",
              "            <th>Population</th>\n",
              "            <th>Ratio</th>\n",
              "        </tr>\n",
              "    </thead>\n",
              "    <tbody>\n",
              "        <tr>\n",
              "            <td>WYOMING</td>\n",
              "            <td>3</td>\n",
              "            <td>586107</td>\n",
              "            <td>5.118519314732634e-06</td>\n",
              "        </tr>\n",
              "        <tr>\n",
              "            <td>VERMONT</td>\n",
              "            <td>3</td>\n",
              "            <td>626042</td>\n",
              "            <td>4.792010759661493e-06</td>\n",
              "        </tr>\n",
              "        <tr>\n",
              "            <td>DC</td>\n",
              "            <td>3</td>\n",
              "            <td>672228</td>\n",
              "            <td>4.462771559649405e-06</td>\n",
              "        </tr>\n",
              "        <tr>\n",
              "            <td>ALASKA</td>\n",
              "            <td>3</td>\n",
              "            <td>738432</td>\n",
              "            <td>4.0626625065002604e-06</td>\n",
              "        </tr>\n",
              "        <tr>\n",
              "            <td>NORTH DAKOTA</td>\n",
              "            <td>3</td>\n",
              "            <td>756927</td>\n",
              "            <td>3.963394092164766e-06</td>\n",
              "        </tr>\n",
              "        <tr>\n",
              "            <td>RHODE ISLAND</td>\n",
              "            <td>4</td>\n",
              "            <td>1056298</td>\n",
              "            <td>3.7868101615263876e-06</td>\n",
              "        </tr>\n",
              "        <tr>\n",
              "            <td>SOUTH DAKOTA</td>\n",
              "            <td>3</td>\n",
              "            <td>858469</td>\n",
              "            <td>3.4945932817609025e-06</td>\n",
              "        </tr>\n",
              "        <tr>\n",
              "            <td>DELAWARE</td>\n",
              "            <td>3</td>\n",
              "            <td>945934</td>\n",
              "            <td>3.1714686225466047e-06</td>\n",
              "        </tr>\n",
              "        <tr>\n",
              "            <td>MAINE</td>\n",
              "            <td>4</td>\n",
              "            <td>1329328</td>\n",
              "            <td>3.009039153617467e-06</td>\n",
              "        </tr>\n",
              "        <tr>\n",
              "            <td>NEW HAMPSHIRE</td>\n",
              "            <td>4</td>\n",
              "            <td>1330608</td>\n",
              "            <td>3.0061445594795764e-06</td>\n",
              "        </tr>\n",
              "    </tbody>\n",
              "</table>"
            ],
            "text/plain": [
              "[('WYOMING', 3, 586107, 5.118519314732634e-06),\n",
              " ('VERMONT', 3, 626042, 4.792010759661493e-06),\n",
              " ('DC', 3, 672228, 4.462771559649405e-06),\n",
              " ('ALASKA', 3, 738432, 4.0626625065002604e-06),\n",
              " ('NORTH DAKOTA', 3, 756927, 3.963394092164766e-06),\n",
              " ('RHODE ISLAND', 4, 1056298, 3.7868101615263876e-06),\n",
              " ('SOUTH DAKOTA', 3, 858469, 3.4945932817609025e-06),\n",
              " ('DELAWARE', 3, 945934, 3.1714686225466047e-06),\n",
              " ('MAINE', 4, 1329328, 3.009039153617467e-06),\n",
              " ('NEW HAMPSHIRE', 4, 1330608, 3.0061445594795764e-06)]"
            ]
          },
          "metadata": {
            "tags": []
          },
          "execution_count": 18
        }
      ]
    },
    {
      "cell_type": "code",
      "metadata": {
        "id": "MRNm3aNadOqW",
        "colab": {
          "base_uri": "https://localhost:8080/"
        },
        "outputId": "8b7798ef-12d4-428e-8c7a-20ac69972fc2"
      },
      "source": [
        "#To compute the running total of Grand Electors in that sorted list.\n",
        "\n",
        "%%sql\n",
        "CREATE VIEW\n",
        "Sum\n",
        "AS\n",
        "SELECT t1.*, sum(t2.GrandElectors) as RunningSum\n",
        "FROM Ratios t1 INNER JOIN Ratios t2 \n",
        "ON t1.Ratio <= t2.Ratio\n",
        "GROUP BY t1.State\n",
        "ORDER BY t1.Ratio ASC;\n"
      ],
      "execution_count": 19,
      "outputs": [
        {
          "output_type": "stream",
          "text": [
            " * sqlite://\n",
            "Done.\n"
          ],
          "name": "stdout"
        },
        {
          "output_type": "execute_result",
          "data": {
            "text/plain": [
              "[]"
            ]
          },
          "metadata": {
            "tags": []
          },
          "execution_count": 19
        }
      ]
    },
    {
      "cell_type": "code",
      "metadata": {
        "id": "_kRg94TSdOnr",
        "colab": {
          "base_uri": "https://localhost:8080/",
          "height": 1000
        },
        "outputId": "dbe17608-c522-4931-e979-0ab2127858c2"
      },
      "source": [
        "%%sql\n",
        "\n",
        "SELECT * FROM SUM;"
      ],
      "execution_count": 20,
      "outputs": [
        {
          "output_type": "stream",
          "text": [
            " * sqlite://\n",
            "Done.\n"
          ],
          "name": "stdout"
        },
        {
          "output_type": "execute_result",
          "data": {
            "text/html": [
              "<table>\n",
              "    <thead>\n",
              "        <tr>\n",
              "            <th>State</th>\n",
              "            <th>GrandElectors</th>\n",
              "            <th>Population</th>\n",
              "            <th>Ratio</th>\n",
              "            <th>RunningSum</th>\n",
              "        </tr>\n",
              "    </thead>\n",
              "    <tbody>\n",
              "        <tr>\n",
              "            <td>TEXAS</td>\n",
              "            <td>38</td>\n",
              "            <td>27469114</td>\n",
              "            <td>1.3833718845099992e-06</td>\n",
              "            <td>538</td>\n",
              "        </tr>\n",
              "        <tr>\n",
              "            <td>CALIFORNIA</td>\n",
              "            <td>55</td>\n",
              "            <td>39144818</td>\n",
              "            <td>1.4050391037710278e-06</td>\n",
              "            <td>500</td>\n",
              "        </tr>\n",
              "        <tr>\n",
              "            <td>FLORIDA</td>\n",
              "            <td>29</td>\n",
              "            <td>20271272</td>\n",
              "            <td>1.4305959685213637e-06</td>\n",
              "            <td>445</td>\n",
              "        </tr>\n",
              "        <tr>\n",
              "            <td>NEW YORK</td>\n",
              "            <td>29</td>\n",
              "            <td>19795791</td>\n",
              "            <td>1.4649578791774474e-06</td>\n",
              "            <td>416</td>\n",
              "        </tr>\n",
              "        <tr>\n",
              "            <td>NORTH CAROLINA</td>\n",
              "            <td>15</td>\n",
              "            <td>10042802</td>\n",
              "            <td>1.4936070630487388e-06</td>\n",
              "            <td>387</td>\n",
              "        </tr>\n",
              "        <tr>\n",
              "            <td>OHIO</td>\n",
              "            <td>18</td>\n",
              "            <td>11613423</td>\n",
              "            <td>1.5499306276883225e-06</td>\n",
              "            <td>372</td>\n",
              "        </tr>\n",
              "        <tr>\n",
              "            <td>VIRGINIA</td>\n",
              "            <td>13</td>\n",
              "            <td>8382993</td>\n",
              "            <td>1.5507587803067473e-06</td>\n",
              "            <td>354</td>\n",
              "        </tr>\n",
              "        <tr>\n",
              "            <td>ILLINOIS</td>\n",
              "            <td>20</td>\n",
              "            <td>12859995</td>\n",
              "            <td>1.5552105580134362e-06</td>\n",
              "            <td>341</td>\n",
              "        </tr>\n",
              "        <tr>\n",
              "            <td>PENNSYLVANIA</td>\n",
              "            <td>20</td>\n",
              "            <td>12802503</td>\n",
              "            <td>1.562194517743913e-06</td>\n",
              "            <td>321</td>\n",
              "        </tr>\n",
              "        <tr>\n",
              "            <td>NEW JERSEY</td>\n",
              "            <td>14</td>\n",
              "            <td>8958013</td>\n",
              "            <td>1.562846582160575e-06</td>\n",
              "            <td>301</td>\n",
              "        </tr>\n",
              "        <tr>\n",
              "            <td>GEORGIA</td>\n",
              "            <td>16</td>\n",
              "            <td>10214860</td>\n",
              "            <td>1.566345500574653e-06</td>\n",
              "            <td>287</td>\n",
              "        </tr>\n",
              "        <tr>\n",
              "            <td>ARIZONA</td>\n",
              "            <td>11</td>\n",
              "            <td>6828065</td>\n",
              "            <td>1.610998137832607e-06</td>\n",
              "            <td>271</td>\n",
              "        </tr>\n",
              "        <tr>\n",
              "            <td>MICHIGAN</td>\n",
              "            <td>16</td>\n",
              "            <td>9922576</td>\n",
              "            <td>1.6124844999927438e-06</td>\n",
              "            <td>260</td>\n",
              "        </tr>\n",
              "        <tr>\n",
              "            <td>MASSACHUSETTS</td>\n",
              "            <td>11</td>\n",
              "            <td>6794422</td>\n",
              "            <td>1.6189750945702225e-06</td>\n",
              "            <td>244</td>\n",
              "        </tr>\n",
              "        <tr>\n",
              "            <td>MISSOURI</td>\n",
              "            <td>10</td>\n",
              "            <td>6083672</td>\n",
              "            <td>1.6437441071773757e-06</td>\n",
              "            <td>233</td>\n",
              "        </tr>\n",
              "        <tr>\n",
              "            <td>COLORADO</td>\n",
              "            <td>9</td>\n",
              "            <td>5456574</td>\n",
              "            <td>1.6493865931260165e-06</td>\n",
              "            <td>223</td>\n",
              "        </tr>\n",
              "        <tr>\n",
              "            <td>INDIANA</td>\n",
              "            <td>11</td>\n",
              "            <td>6619680</td>\n",
              "            <td>1.6617117443743504e-06</td>\n",
              "            <td>214</td>\n",
              "        </tr>\n",
              "        <tr>\n",
              "            <td>MARYLAND</td>\n",
              "            <td>10</td>\n",
              "            <td>6006401</td>\n",
              "            <td>1.6648905059785385e-06</td>\n",
              "            <td>203</td>\n",
              "        </tr>\n",
              "        <tr>\n",
              "            <td>TENNESSEE</td>\n",
              "            <td>11</td>\n",
              "            <td>6600299</td>\n",
              "            <td>1.6665911650366142e-06</td>\n",
              "            <td>193</td>\n",
              "        </tr>\n",
              "        <tr>\n",
              "            <td>WASHINGTON</td>\n",
              "            <td>12</td>\n",
              "            <td>7170351</td>\n",
              "            <td>1.673558240035948e-06</td>\n",
              "            <td>182</td>\n",
              "        </tr>\n",
              "        <tr>\n",
              "            <td>LOUISIANA</td>\n",
              "            <td>8</td>\n",
              "            <td>4670724</td>\n",
              "            <td>1.712796560019389e-06</td>\n",
              "            <td>170</td>\n",
              "        </tr>\n",
              "        <tr>\n",
              "            <td>WISCONSIN</td>\n",
              "            <td>10</td>\n",
              "            <td>5771337</td>\n",
              "            <td>1.7327007589402595e-06</td>\n",
              "            <td>162</td>\n",
              "        </tr>\n",
              "        <tr>\n",
              "            <td>OREGON</td>\n",
              "            <td>7</td>\n",
              "            <td>4028977</td>\n",
              "            <td>1.7374137405103083e-06</td>\n",
              "            <td>152</td>\n",
              "        </tr>\n",
              "        <tr>\n",
              "            <td>OKLAHOMA</td>\n",
              "            <td>7</td>\n",
              "            <td>3911338</td>\n",
              "            <td>1.7896689061390246e-06</td>\n",
              "            <td>145</td>\n",
              "        </tr>\n",
              "        <tr>\n",
              "            <td>KENTUCKY</td>\n",
              "            <td>8</td>\n",
              "            <td>4425092</td>\n",
              "            <td>1.8078720171241637e-06</td>\n",
              "            <td>138</td>\n",
              "        </tr>\n",
              "        <tr>\n",
              "            <td>MINNESOTA</td>\n",
              "            <td>10</td>\n",
              "            <td>5489594</td>\n",
              "            <td>1.8216283389992047e-06</td>\n",
              "            <td>130</td>\n",
              "        </tr>\n",
              "        <tr>\n",
              "            <td>SOUTH CAROLINA</td>\n",
              "            <td>9</td>\n",
              "            <td>4896146</td>\n",
              "            <td>1.8381804790951905e-06</td>\n",
              "            <td>120</td>\n",
              "        </tr>\n",
              "        <tr>\n",
              "            <td>ALABAMA</td>\n",
              "            <td>9</td>\n",
              "            <td>4858979</td>\n",
              "            <td>1.8522409749043987e-06</td>\n",
              "            <td>111</td>\n",
              "        </tr>\n",
              "        <tr>\n",
              "            <td>IOWA</td>\n",
              "            <td>6</td>\n",
              "            <td>3123899</td>\n",
              "            <td>1.9206766928124116e-06</td>\n",
              "            <td>102</td>\n",
              "        </tr>\n",
              "        <tr>\n",
              "            <td>CONNECTICUT</td>\n",
              "            <td>7</td>\n",
              "            <td>3590886</td>\n",
              "            <td>1.949379623858847e-06</td>\n",
              "            <td>96</td>\n",
              "        </tr>\n",
              "        <tr>\n",
              "            <td>UTAH</td>\n",
              "            <td>6</td>\n",
              "            <td>2995919</td>\n",
              "            <td>2.0027243727216926e-06</td>\n",
              "            <td>89</td>\n",
              "        </tr>\n",
              "        <tr>\n",
              "            <td>MISSISSIPPI</td>\n",
              "            <td>6</td>\n",
              "            <td>2992333</td>\n",
              "            <td>2.00512442966742e-06</td>\n",
              "            <td>83</td>\n",
              "        </tr>\n",
              "        <tr>\n",
              "            <td>ARKANSAS</td>\n",
              "            <td>6</td>\n",
              "            <td>2978204</td>\n",
              "            <td>2.0146370094190997e-06</td>\n",
              "            <td>77</td>\n",
              "        </tr>\n",
              "        <tr>\n",
              "            <td>KANSAS</td>\n",
              "            <td>6</td>\n",
              "            <td>2911641</td>\n",
              "            <td>2.0606936088618066e-06</td>\n",
              "            <td>71</td>\n",
              "        </tr>\n",
              "        <tr>\n",
              "            <td>NEVADA</td>\n",
              "            <td>6</td>\n",
              "            <td>2890845</td>\n",
              "            <td>2.0755177119492743e-06</td>\n",
              "            <td>65</td>\n",
              "        </tr>\n",
              "        <tr>\n",
              "            <td>NEW MEXICO</td>\n",
              "            <td>5</td>\n",
              "            <td>2085109</td>\n",
              "            <td>2.3979561739937817e-06</td>\n",
              "            <td>59</td>\n",
              "        </tr>\n",
              "        <tr>\n",
              "            <td>IDAHO</td>\n",
              "            <td>4</td>\n",
              "            <td>1654930</td>\n",
              "            <td>2.417020659484087e-06</td>\n",
              "            <td>54</td>\n",
              "        </tr>\n",
              "        <tr>\n",
              "            <td>NEBRASKA</td>\n",
              "            <td>5</td>\n",
              "            <td>1896190</td>\n",
              "            <td>2.636866558730929e-06</td>\n",
              "            <td>50</td>\n",
              "        </tr>\n",
              "        <tr>\n",
              "            <td>WEST VIRGINIA</td>\n",
              "            <td>5</td>\n",
              "            <td>1844128</td>\n",
              "            <td>2.7113085425740512e-06</td>\n",
              "            <td>45</td>\n",
              "        </tr>\n",
              "        <tr>\n",
              "            <td>HAWAII</td>\n",
              "            <td>4</td>\n",
              "            <td>1431603</td>\n",
              "            <td>2.794070702562093e-06</td>\n",
              "            <td>40</td>\n",
              "        </tr>\n",
              "        <tr>\n",
              "            <td>MONTANA</td>\n",
              "            <td>3</td>\n",
              "            <td>1032949</td>\n",
              "            <td>2.904306020916812e-06</td>\n",
              "            <td>36</td>\n",
              "        </tr>\n",
              "        <tr>\n",
              "            <td>NEW HAMPSHIRE</td>\n",
              "            <td>4</td>\n",
              "            <td>1330608</td>\n",
              "            <td>3.0061445594795764e-06</td>\n",
              "            <td>33</td>\n",
              "        </tr>\n",
              "        <tr>\n",
              "            <td>MAINE</td>\n",
              "            <td>4</td>\n",
              "            <td>1329328</td>\n",
              "            <td>3.009039153617467e-06</td>\n",
              "            <td>29</td>\n",
              "        </tr>\n",
              "        <tr>\n",
              "            <td>DELAWARE</td>\n",
              "            <td>3</td>\n",
              "            <td>945934</td>\n",
              "            <td>3.1714686225466047e-06</td>\n",
              "            <td>25</td>\n",
              "        </tr>\n",
              "        <tr>\n",
              "            <td>SOUTH DAKOTA</td>\n",
              "            <td>3</td>\n",
              "            <td>858469</td>\n",
              "            <td>3.4945932817609025e-06</td>\n",
              "            <td>22</td>\n",
              "        </tr>\n",
              "        <tr>\n",
              "            <td>RHODE ISLAND</td>\n",
              "            <td>4</td>\n",
              "            <td>1056298</td>\n",
              "            <td>3.7868101615263876e-06</td>\n",
              "            <td>19</td>\n",
              "        </tr>\n",
              "        <tr>\n",
              "            <td>NORTH DAKOTA</td>\n",
              "            <td>3</td>\n",
              "            <td>756927</td>\n",
              "            <td>3.963394092164766e-06</td>\n",
              "            <td>15</td>\n",
              "        </tr>\n",
              "        <tr>\n",
              "            <td>ALASKA</td>\n",
              "            <td>3</td>\n",
              "            <td>738432</td>\n",
              "            <td>4.0626625065002604e-06</td>\n",
              "            <td>12</td>\n",
              "        </tr>\n",
              "        <tr>\n",
              "            <td>DC</td>\n",
              "            <td>3</td>\n",
              "            <td>672228</td>\n",
              "            <td>4.462771559649405e-06</td>\n",
              "            <td>9</td>\n",
              "        </tr>\n",
              "        <tr>\n",
              "            <td>VERMONT</td>\n",
              "            <td>3</td>\n",
              "            <td>626042</td>\n",
              "            <td>4.792010759661493e-06</td>\n",
              "            <td>6</td>\n",
              "        </tr>\n",
              "        <tr>\n",
              "            <td>WYOMING</td>\n",
              "            <td>3</td>\n",
              "            <td>586107</td>\n",
              "            <td>5.118519314732634e-06</td>\n",
              "            <td>3</td>\n",
              "        </tr>\n",
              "    </tbody>\n",
              "</table>"
            ],
            "text/plain": [
              "[('TEXAS', 38, 27469114, 1.3833718845099992e-06, 538),\n",
              " ('CALIFORNIA', 55, 39144818, 1.4050391037710278e-06, 500),\n",
              " ('FLORIDA', 29, 20271272, 1.4305959685213637e-06, 445),\n",
              " ('NEW YORK', 29, 19795791, 1.4649578791774474e-06, 416),\n",
              " ('NORTH CAROLINA', 15, 10042802, 1.4936070630487388e-06, 387),\n",
              " ('OHIO', 18, 11613423, 1.5499306276883225e-06, 372),\n",
              " ('VIRGINIA', 13, 8382993, 1.5507587803067473e-06, 354),\n",
              " ('ILLINOIS', 20, 12859995, 1.5552105580134362e-06, 341),\n",
              " ('PENNSYLVANIA', 20, 12802503, 1.562194517743913e-06, 321),\n",
              " ('NEW JERSEY', 14, 8958013, 1.562846582160575e-06, 301),\n",
              " ('GEORGIA', 16, 10214860, 1.566345500574653e-06, 287),\n",
              " ('ARIZONA', 11, 6828065, 1.610998137832607e-06, 271),\n",
              " ('MICHIGAN', 16, 9922576, 1.6124844999927438e-06, 260),\n",
              " ('MASSACHUSETTS', 11, 6794422, 1.6189750945702225e-06, 244),\n",
              " ('MISSOURI', 10, 6083672, 1.6437441071773757e-06, 233),\n",
              " ('COLORADO', 9, 5456574, 1.6493865931260165e-06, 223),\n",
              " ('INDIANA', 11, 6619680, 1.6617117443743504e-06, 214),\n",
              " ('MARYLAND', 10, 6006401, 1.6648905059785385e-06, 203),\n",
              " ('TENNESSEE', 11, 6600299, 1.6665911650366142e-06, 193),\n",
              " ('WASHINGTON', 12, 7170351, 1.673558240035948e-06, 182),\n",
              " ('LOUISIANA', 8, 4670724, 1.712796560019389e-06, 170),\n",
              " ('WISCONSIN', 10, 5771337, 1.7327007589402595e-06, 162),\n",
              " ('OREGON', 7, 4028977, 1.7374137405103083e-06, 152),\n",
              " ('OKLAHOMA', 7, 3911338, 1.7896689061390246e-06, 145),\n",
              " ('KENTUCKY', 8, 4425092, 1.8078720171241637e-06, 138),\n",
              " ('MINNESOTA', 10, 5489594, 1.8216283389992047e-06, 130),\n",
              " ('SOUTH CAROLINA', 9, 4896146, 1.8381804790951905e-06, 120),\n",
              " ('ALABAMA', 9, 4858979, 1.8522409749043987e-06, 111),\n",
              " ('IOWA', 6, 3123899, 1.9206766928124116e-06, 102),\n",
              " ('CONNECTICUT', 7, 3590886, 1.949379623858847e-06, 96),\n",
              " ('UTAH', 6, 2995919, 2.0027243727216926e-06, 89),\n",
              " ('MISSISSIPPI', 6, 2992333, 2.00512442966742e-06, 83),\n",
              " ('ARKANSAS', 6, 2978204, 2.0146370094190997e-06, 77),\n",
              " ('KANSAS', 6, 2911641, 2.0606936088618066e-06, 71),\n",
              " ('NEVADA', 6, 2890845, 2.0755177119492743e-06, 65),\n",
              " ('NEW MEXICO', 5, 2085109, 2.3979561739937817e-06, 59),\n",
              " ('IDAHO', 4, 1654930, 2.417020659484087e-06, 54),\n",
              " ('NEBRASKA', 5, 1896190, 2.636866558730929e-06, 50),\n",
              " ('WEST VIRGINIA', 5, 1844128, 2.7113085425740512e-06, 45),\n",
              " ('HAWAII', 4, 1431603, 2.794070702562093e-06, 40),\n",
              " ('MONTANA', 3, 1032949, 2.904306020916812e-06, 36),\n",
              " ('NEW HAMPSHIRE', 4, 1330608, 3.0061445594795764e-06, 33),\n",
              " ('MAINE', 4, 1329328, 3.009039153617467e-06, 29),\n",
              " ('DELAWARE', 3, 945934, 3.1714686225466047e-06, 25),\n",
              " ('SOUTH DAKOTA', 3, 858469, 3.4945932817609025e-06, 22),\n",
              " ('RHODE ISLAND', 4, 1056298, 3.7868101615263876e-06, 19),\n",
              " ('NORTH DAKOTA', 3, 756927, 3.963394092164766e-06, 15),\n",
              " ('ALASKA', 3, 738432, 4.0626625065002604e-06, 12),\n",
              " ('DC', 3, 672228, 4.462771559649405e-06, 9),\n",
              " ('VERMONT', 3, 626042, 4.792010759661493e-06, 6),\n",
              " ('WYOMING', 3, 586107, 5.118519314732634e-06, 3)]"
            ]
          },
          "metadata": {
            "tags": []
          },
          "execution_count": 20
        }
      ]
    },
    {
      "cell_type": "code",
      "metadata": {
        "id": "U57OkHTWdOlT",
        "colab": {
          "base_uri": "https://localhost:8080/",
          "height": 879
        },
        "outputId": "3e48c858-caeb-4c8e-8b78-2208df15407d"
      },
      "source": [
        "# Filtering out the states that have a running sum of 269 +1\n",
        "\n",
        "%%sql\n",
        "SELECT Sum.State from Sum\n",
        "WHERE RunningSum <= 271\n",
        "ORDER BY Sum.Ratio DESC;"
      ],
      "execution_count": 21,
      "outputs": [
        {
          "output_type": "stream",
          "text": [
            " * sqlite://\n",
            "Done.\n"
          ],
          "name": "stdout"
        },
        {
          "output_type": "execute_result",
          "data": {
            "text/html": [
              "<table>\n",
              "    <thead>\n",
              "        <tr>\n",
              "            <th>State</th>\n",
              "        </tr>\n",
              "    </thead>\n",
              "    <tbody>\n",
              "        <tr>\n",
              "            <td>WYOMING</td>\n",
              "        </tr>\n",
              "        <tr>\n",
              "            <td>VERMONT</td>\n",
              "        </tr>\n",
              "        <tr>\n",
              "            <td>DC</td>\n",
              "        </tr>\n",
              "        <tr>\n",
              "            <td>ALASKA</td>\n",
              "        </tr>\n",
              "        <tr>\n",
              "            <td>NORTH DAKOTA</td>\n",
              "        </tr>\n",
              "        <tr>\n",
              "            <td>RHODE ISLAND</td>\n",
              "        </tr>\n",
              "        <tr>\n",
              "            <td>SOUTH DAKOTA</td>\n",
              "        </tr>\n",
              "        <tr>\n",
              "            <td>DELAWARE</td>\n",
              "        </tr>\n",
              "        <tr>\n",
              "            <td>MAINE</td>\n",
              "        </tr>\n",
              "        <tr>\n",
              "            <td>NEW HAMPSHIRE</td>\n",
              "        </tr>\n",
              "        <tr>\n",
              "            <td>MONTANA</td>\n",
              "        </tr>\n",
              "        <tr>\n",
              "            <td>HAWAII</td>\n",
              "        </tr>\n",
              "        <tr>\n",
              "            <td>WEST VIRGINIA</td>\n",
              "        </tr>\n",
              "        <tr>\n",
              "            <td>NEBRASKA</td>\n",
              "        </tr>\n",
              "        <tr>\n",
              "            <td>IDAHO</td>\n",
              "        </tr>\n",
              "        <tr>\n",
              "            <td>NEW MEXICO</td>\n",
              "        </tr>\n",
              "        <tr>\n",
              "            <td>NEVADA</td>\n",
              "        </tr>\n",
              "        <tr>\n",
              "            <td>KANSAS</td>\n",
              "        </tr>\n",
              "        <tr>\n",
              "            <td>ARKANSAS</td>\n",
              "        </tr>\n",
              "        <tr>\n",
              "            <td>MISSISSIPPI</td>\n",
              "        </tr>\n",
              "        <tr>\n",
              "            <td>UTAH</td>\n",
              "        </tr>\n",
              "        <tr>\n",
              "            <td>CONNECTICUT</td>\n",
              "        </tr>\n",
              "        <tr>\n",
              "            <td>IOWA</td>\n",
              "        </tr>\n",
              "        <tr>\n",
              "            <td>ALABAMA</td>\n",
              "        </tr>\n",
              "        <tr>\n",
              "            <td>SOUTH CAROLINA</td>\n",
              "        </tr>\n",
              "        <tr>\n",
              "            <td>MINNESOTA</td>\n",
              "        </tr>\n",
              "        <tr>\n",
              "            <td>KENTUCKY</td>\n",
              "        </tr>\n",
              "        <tr>\n",
              "            <td>OKLAHOMA</td>\n",
              "        </tr>\n",
              "        <tr>\n",
              "            <td>OREGON</td>\n",
              "        </tr>\n",
              "        <tr>\n",
              "            <td>WISCONSIN</td>\n",
              "        </tr>\n",
              "        <tr>\n",
              "            <td>LOUISIANA</td>\n",
              "        </tr>\n",
              "        <tr>\n",
              "            <td>WASHINGTON</td>\n",
              "        </tr>\n",
              "        <tr>\n",
              "            <td>TENNESSEE</td>\n",
              "        </tr>\n",
              "        <tr>\n",
              "            <td>MARYLAND</td>\n",
              "        </tr>\n",
              "        <tr>\n",
              "            <td>INDIANA</td>\n",
              "        </tr>\n",
              "        <tr>\n",
              "            <td>COLORADO</td>\n",
              "        </tr>\n",
              "        <tr>\n",
              "            <td>MISSOURI</td>\n",
              "        </tr>\n",
              "        <tr>\n",
              "            <td>MASSACHUSETTS</td>\n",
              "        </tr>\n",
              "        <tr>\n",
              "            <td>MICHIGAN</td>\n",
              "        </tr>\n",
              "        <tr>\n",
              "            <td>ARIZONA</td>\n",
              "        </tr>\n",
              "    </tbody>\n",
              "</table>"
            ],
            "text/plain": [
              "[('WYOMING',),\n",
              " ('VERMONT',),\n",
              " ('DC',),\n",
              " ('ALASKA',),\n",
              " ('NORTH DAKOTA',),\n",
              " ('RHODE ISLAND',),\n",
              " ('SOUTH DAKOTA',),\n",
              " ('DELAWARE',),\n",
              " ('MAINE',),\n",
              " ('NEW HAMPSHIRE',),\n",
              " ('MONTANA',),\n",
              " ('HAWAII',),\n",
              " ('WEST VIRGINIA',),\n",
              " ('NEBRASKA',),\n",
              " ('IDAHO',),\n",
              " ('NEW MEXICO',),\n",
              " ('NEVADA',),\n",
              " ('KANSAS',),\n",
              " ('ARKANSAS',),\n",
              " ('MISSISSIPPI',),\n",
              " ('UTAH',),\n",
              " ('CONNECTICUT',),\n",
              " ('IOWA',),\n",
              " ('ALABAMA',),\n",
              " ('SOUTH CAROLINA',),\n",
              " ('MINNESOTA',),\n",
              " ('KENTUCKY',),\n",
              " ('OKLAHOMA',),\n",
              " ('OREGON',),\n",
              " ('WISCONSIN',),\n",
              " ('LOUISIANA',),\n",
              " ('WASHINGTON',),\n",
              " ('TENNESSEE',),\n",
              " ('MARYLAND',),\n",
              " ('INDIANA',),\n",
              " ('COLORADO',),\n",
              " ('MISSOURI',),\n",
              " ('MASSACHUSETTS',),\n",
              " ('MICHIGAN',),\n",
              " ('ARIZONA',)]"
            ]
          },
          "metadata": {
            "tags": []
          },
          "execution_count": 21
        }
      ]
    },
    {
      "cell_type": "code",
      "metadata": {
        "id": "Su8h3ehymKo-"
      },
      "source": [
        ""
      ],
      "execution_count": null,
      "outputs": []
    },
    {
      "cell_type": "markdown",
      "metadata": {
        "id": "8OX5Ey-qma-0"
      },
      "source": [
        "# Recommendation"
      ]
    },
    {
      "cell_type": "markdown",
      "metadata": {
        "id": "_ArffWDUmrIG"
      },
      "source": [
        "Candidates should focus their efforts on the states filtered above as it will\n",
        "increase their chances of winning the election."
      ]
    },
    {
      "cell_type": "code",
      "metadata": {
        "id": "d4Obw_TgdOiD"
      },
      "source": [
        ""
      ],
      "execution_count": 19,
      "outputs": []
    }
  ]
}